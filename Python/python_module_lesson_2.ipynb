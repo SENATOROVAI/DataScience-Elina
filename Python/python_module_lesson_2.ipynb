{
 "cells": [
  {
   "cell_type": "markdown",
   "id": "3861fc03-db9c-493e-b201-7b7870dfea3d",
   "metadata": {},
   "source": [
    "# Функции\n",
    "Напишите функцию zip_, которая принимает на вход два списка и «сшивает» их следующим образом, например:\n",
    "\n",
    "Списки [1, 5, 3, 8, 35] и [2, 7, 9] превратятся в [(1, 2), (5, 7), (3, 9)], т. е. сначала берутся первые элементы первого и второго списков и собираются в кортеж, затем вторые элементы первого и второго списков и собираются в кортеж и т. д., пока не дошли до конца самого короткого списка. \n",
    "\n",
    "На выходе функция должна возвращать (return) «сшитый» список. Вам понадобится использовать цикл."
   ]
  },
  {
   "cell_type": "code",
   "execution_count": 26,
   "id": "ebee0c94-692e-4422-8e51-d0ddac381111",
   "metadata": {},
   "outputs": [
    {
     "name": "stderr",
     "output_type": "stream",
     "text": [
      "3:80: W291 trailing whitespace\n",
      "4:79: W291 trailing whitespace\n",
      "5:80: E501 line too long (80 > 79 characters)\n",
      "5:81: W291 trailing whitespace\n",
      "12:80: E501 line too long (94 > 79 characters)\n",
      "17:1: W391 blank line at end of file\n"
     ]
    }
   ],
   "source": [
    "def zip_(first_list, second_list):\n",
    "    \"\"\"\n",
    "    Creates a list of tuples, where each tuple contains elements from the first\n",
    "    and second lists. The element from the first list is selected based on the\n",
    "    current index of the iteration over the second list, ensuring it cycles back\n",
    "    to the start if it exceeds the length of the first list.\n",
    "    \"\"\"\n",
    "    tuple_list = []\n",
    "    shifted_element = 0\n",
    "    for second_list_element in range(len(second_list)):\n",
    "        for first_list_element in range(len(first_list)):\n",
    "            tuple_list.append(\n",
    "                (first_list[shifted_element], second_list[second_list_element])\n",
    "            )\n",
    "            shifted_element = second_list_element + 1\n",
    "            break\n",
    "\n",
    "    return tuple_list"
   ]
  },
  {
   "cell_type": "markdown",
   "id": "69d30066-3bde-47d8-9c84-2ae76f6ed7f2",
   "metadata": {},
   "source": [
    "# Функции\n",
    "Добавим аргументы по умолчанию.\n",
    "\n",
    "Вспомните пример с подсчетом банковского процента из урока 1. Напишите функцию final_balance, которая на вход принимает начальную сумму init_sum, процентную ставку interest_rate, количество лет years и округление round_num. Функция должна возвращать сумму по истечении этого срока.\n",
    "\n",
    "Аргумент функции round_num должен задавать, сколько значащих чисел после запятой оставлять. Так, при round_num = 2 сумма будет выводиться с точностью до копеек, при round_num = 0 - с точностью до рублей. При этом round_num может быть отрицательным! В таком случае округление будет грубее: round_num = -1 будет округлять до десятков рублей, round_num = -2 до сотен и т. д.\n",
    "\n",
    "Поставьте значение по умолчанию round_num, равное 2. Это соответствует округлению до копеек.\n",
    "\n",
    "Вам может пригодиться встроенная в Python функция round() и примеры ее использования:\n",
    "\n",
    "round(123.45, 2)\n",
    "123.45\n",
    "\n",
    "round(123.45, 1)\n",
    "123.5\n",
    "\n",
    "round(123.45, 0)\n",
    "123.0\n",
    "\n",
    "round(123.45, -1)\n",
    "120.0\n",
    "\n",
    "round(123.45, -2)\n",
    "100.0\n",
    "\n",
    "\n",
    "Напишите функцию, вызовите ее последовательно для следующих параметров и верните результат из функции.\n",
    "\n",
    "init_sum\tinterest_rate\tyears\n",
    "1000\t5\t10\n",
    "700\t7\t10\n"
   ]
  },
  {
   "cell_type": "code",
   "execution_count": 15,
   "id": "b2bf6af5-4ed1-4ba6-b556-30b42194a815",
   "metadata": {},
   "outputs": [
    {
     "name": "stderr",
     "output_type": "stream",
     "text": [
      "4:1: W293 blank line contains whitespace\n",
      "10:1: E305 expected 2 blank lines after class or function definition, found 1\n"
     ]
    },
    {
     "name": "stdout",
     "output_type": "stream",
     "text": [
      "1628.89\n",
      "1377.01\n"
     ]
    }
   ],
   "source": [
    "def final_balance(init_sum, interest_rate, years, round_num=2):\n",
    "    \"\"\"\n",
    "    Calculate the final balance of an investment based on its initial sum.\n",
    "\n",
    "    \"\"\"\n",
    "    final_sum = init_sum * ((100 + interest_rate) / 100) ** years\n",
    "    final_sum = round(final_sum, round_num)\n",
    "    return final_sum\n",
    "\n",
    "\n",
    "print(final_balance(1000, 5, 10))\n",
    "print(final_balance(700, 7, 10))"
   ]
  },
  {
   "cell_type": "markdown",
   "id": "390ff12e-a021-4b80-9527-4a435566fe8a",
   "metadata": {},
   "source": [
    "# Ошибки и их обработка\n",
    "На практике часто приходится иметь дело с данными из непроверенных источников. Эти данные могут быть неправильного формата, неправильного типа, «не читаться» и т.д. Помимо этого нашей программе может понадобиться выходить в Сеть за некоторыми данными (а Сеть ведь может быть недоступна) или подключаться к базе данных (а база данных может отказаться нас обслуживать).\n",
    "\n",
    "Все эти моменты могут сломать нашу программу. С ошибками Сети и баз данных мы научимся работать чуть позже. Пока будем учиться обрабатывать исключения в простых программах :)\n",
    "\n",
    "Напишите функцию sum_as_ints, которая принимает на вход список из строк, пытается привести их к целому числу через int(element) и считает сумму. Список может содержать любые данные, но если они не приводятся через int(element), то программа должна их отбросить.\n",
    "\n",
    "Вы можете попробовать выполнить int(\"hello\"), int(\"3.14\"), int(\"2,2\") и увидеть, какие исключения выбрасывает программа. После этого можно обработать эти исключения у себя в функции."
   ]
  },
  {
   "cell_type": "code",
   "execution_count": 28,
   "id": "37f5204c-73fc-46f4-9b38-999acd059ba6",
   "metadata": {},
   "outputs": [],
   "source": [
    "def sum_as_ints(list_of_strings):\n",
    "    new_list = []\n",
    "    for element in list_of_strings:\n",
    "        try:\n",
    "            new_list.append(int(element))\n",
    "\n",
    "        except ValueError:\n",
    "            print(\"Список пуст\")\n",
    "    return sum(new_list)"
   ]
  },
  {
   "cell_type": "markdown",
   "id": "bfe42c39-6c3a-4ccd-b14a-1db22fe6f4cb",
   "metadata": {},
   "source": [
    "# Ссылочная модель данных\r\n",
    "Напишите реализацию reversed_, в которой не будет проблемы из прошлого пункта.\r\n",
    "\r\n",
    "Оба варианта проверочного кода должны выдать Все хорошо.\r\n",
    "\r\n",
    "Проверочный код:\r\n",
    "\r\n",
    "if reversed_(reversed_([1, 2, 3])) == [1, 2, 3]:\r\n",
    "    print(\"Все хорошо\")\r\n",
    "else:\r\n",
    "    raise RuntimeError(\"Ошибка, после обращения дважды не получается исходный массив!\")\r\n",
    "\r\n",
    "\r\n",
    "arr = [1, 2, 3]\r\n",
    "if reversed_(reversed_(arr)) == arr:\r\n",
    "    print(\"Все хорошо\")\r\n",
    "else:\r\n",
    "    raise RuntimeError(\"Ошибка, после обращения дважды не получается исходный массив!\")\r\n",
    "\r\n",
    "\r\n",
    "Если нужна помощь, напишите сюда."
   ]
  },
  {
   "cell_type": "code",
   "execution_count": 29,
   "id": "4a919125-65fe-4ef1-a340-43f075885f21",
   "metadata": {},
   "outputs": [],
   "source": [
    "def reversed_(array):\n",
    "    reversed_list = []\n",
    "    reversed_list = array[::-1]\n",
    "    return reversed_list"
   ]
  },
  {
   "cell_type": "markdown",
   "id": "64e92d7f-2c86-4383-a349-f115388e3279",
   "metadata": {},
   "source": [
    "# Срезы\n",
    "В этом задании Вам понадобится написать функцию find_substr,  которая принимает на вход два аргумента: подстроку (любой длины) и строку, в которой нужно ее искать, и возвращает кортеж, представляющий собой пару [start, stop) первой позиции, где найдено слово."
   ]
  },
  {
   "cell_type": "code",
   "execution_count": 30,
   "id": "97e2e293-997a-46e4-baf1-a00171353491",
   "metadata": {},
   "outputs": [],
   "source": [
    "def find_substr(substring, string):\n",
    "    for i in range(len(string) - len(substring) + 1):\n",
    "        candidate = string[i : i + len(substring)]\n",
    "        if candidate == substring:\n",
    "            return (i, i + len(substring))"
   ]
  },
  {
   "cell_type": "markdown",
   "id": "f01b9563-65d2-405a-ac23-22bf697b3d2f",
   "metadata": {},
   "source": [
    "# Срезы\n",
    "В этом задании вам потребуется написать функцию fifth_element, которая возвращает в виде списка, каждый пятый элемент исходного списка в обратном порядке, начиная с пятого с конца.\n",
    "\n",
    "Пример, как должна выглядить функция для сдачи задания\n",
    "\n",
    "def fifth_element(some_list: list) -> list:\n",
    "    ...\n",
    "    \n",
    "\n",
    "\n",
    "Конструкция -> list в этом примере определяет тип возвращаемого значения. Это означает, что на выходе функции мы ожидаем получить список. Это называется аннотацией типов в Python, подробнее можно почитать об этом здесь.\n",
    "\n",
    "Не в качестве ответа на задачу, а для самопроверки, попробуйте использовать написанную вами функцию fifth_element для расшифровки следующего кода: \n",
    "\n",
    "['e',6,8,'A','>','^','S','$','R','C',6,'+','#',9,'/',1,'T','!','%','K',7,'-','O','*','<',2,'h',4,'g']"
   ]
  },
  {
   "cell_type": "code",
   "execution_count": 31,
   "id": "648de176-7fa0-4514-94bf-b95be47785b0",
   "metadata": {},
   "outputs": [],
   "source": [
    "def fifth_element(some_list: list) -> list:\n",
    "    list_of_fifth_elmnts = []\n",
    "    # reversed_list = some_list[::-1]\n",
    "    # print(reversed_list)\n",
    "\n",
    "    for i in range(len(some_list) - 5, -1, -5):\n",
    "        print(len(some_list))\n",
    "        print(i)\n",
    "        list_of_fifth_elmnts.append(some_list[i])\n",
    "\n",
    "    return list_of_fifth_elmnts"
   ]
  },
  {
   "cell_type": "markdown",
   "id": "3bdeca41-9602-4c3c-8797-41910569cbe9",
   "metadata": {},
   "source": [
    "# Строки\n",
    "В этом задании потребуется написать функцию process_string, которая приводит строку[1:] к нижнему регистру и заменяет все слова 'intern' на 'junior'.\n",
    "\n",
    "def process_string(string):\n",
    "    <...>\n",
    "    return result\n",
    "\n",
    "process_string('IIntern reads a lot of books')\n",
    "\n",
    "Output:\n",
    "'junior reads a lot of books'"
   ]
  },
  {
   "cell_type": "code",
   "execution_count": 32,
   "id": "a4f2446f-625e-4017-941c-18400640d705",
   "metadata": {},
   "outputs": [
    {
     "data": {
      "text/plain": [
       "'junior reads a lot of books'"
      ]
     },
     "execution_count": 32,
     "metadata": {},
     "output_type": "execute_result"
    }
   ],
   "source": [
    "def process_string(string):\n",
    "    result = string[1:].lower().replace(\"intern\", \"junior\")\n",
    "    return result\n",
    "\n",
    "\n",
    "process_string(\"IIntern reads a lot of books\")"
   ]
  },
  {
   "cell_type": "markdown",
   "id": "99829a2d-533b-48e6-8ea2-b60887bc507e",
   "metadata": {},
   "source": [
    "# Строки\n",
    "В этом задании необходимо написать функцию check_string, которая сначала проверяет строку на наличие лишних символов пробела слева и справа. Если есть лишние пробелы, то тогда мы считаем строку неверной. Затем проверяет, что только первое слово начинается с большой буквы, а остальные с маленькой, и в конце проводит проверку, что последний символ является точкой.\n",
    "\n"
   ]
  },
  {
   "cell_type": "code",
   "execution_count": 38,
   "id": "82c5b0d5-3b98-4c17-90ce-e97134b273f8",
   "metadata": {},
   "outputs": [],
   "source": [
    "def check_string(string):\n",
    "\n",
    "    result = False\n",
    "\n",
    "    if len(string.strip()) != len(string):\n",
    "\n",
    "        return False\n",
    "\n",
    "    words = string[:-1].split()\n",
    "\n",
    "    if not words[0][0].isupper() or any(word[0].isupper() for word in words[1:]):\n",
    "\n",
    "        return False\n",
    "\n",
    "    if not string.endswith(\".\"):\n",
    "\n",
    "        return False\n",
    "\n",
    "    else:\n",
    "\n",
    "        return True"
   ]
  },
  {
   "cell_type": "code",
   "execution_count": null,
   "id": "fa27b1c1-b049-434f-bf3f-9e6b52c44fe1",
   "metadata": {},
   "outputs": [],
   "source": []
  }
 ],
 "metadata": {
  "kernelspec": {
   "display_name": "Python 3 (ipykernel)",
   "language": "python",
   "name": "python3"
  },
  "language_info": {
   "codemirror_mode": {
    "name": "ipython",
    "version": 3
   },
   "file_extension": ".py",
   "mimetype": "text/x-python",
   "name": "python",
   "nbconvert_exporter": "python",
   "pygments_lexer": "ipython3",
   "version": "3.11.0"
  }
 },
 "nbformat": 4,
 "nbformat_minor": 5
}
