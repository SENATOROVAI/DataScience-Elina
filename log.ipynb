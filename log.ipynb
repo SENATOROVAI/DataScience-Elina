{
 "cells": [
  {
   "cell_type": "markdown",
   "metadata": {},
   "source": [
    "**31/07/24**     \n",
    "\n",
    "Прошли алгоритм для нахождения обратной матрицы:\n",
    "\n",
    "1) Найти детерминант\n",
    "2) Найти матрицу миноров\n",
    "3) Найти матрицу алгебраических дополнений\n",
    "4) Найти транспон-ую матрицу алг.доп."
   ]
  },
  {
   "cell_type": "markdown",
   "metadata": {},
   "source": []
  }
 ],
 "metadata": {
  "language_info": {
   "name": "python"
  }
 },
 "nbformat": 4,
 "nbformat_minor": 2
}
